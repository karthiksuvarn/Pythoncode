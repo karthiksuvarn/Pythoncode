{
 "cells": [
  {
   "cell_type": "code",
   "execution_count": null,
   "id": "a3d27c13",
   "metadata": {},
   "outputs": [],
   "source": [
    "import pandas as pd \n",
    "from operator import add\n",
    "from functool import reduse\n",
    "coding={'subject':[\"python\",\"java\"],'amount':[1000,2000]}\n",
    "df=pd.DataFrame(coding)\n",
    "print(df)\n",
    "print(\"\\n map operation to multiply amount by 2 \\n\")\n",
    "df['amount']=df['amount'],map(lambda x : x*2)\n",
    "print(df)\n",
    "print(\"\\n\")\n",
    "print(\"\\n operation of filter to display only subject column \\n\")\n",
    "df2=df.filter(items=['subject'])\n",
    "print(df2)\n",
    "print(\"\\n reduce operation to find total amount \\n\")"
   ]
  }
 ],
 "metadata": {
  "kernelspec": {
   "display_name": "Python 3 (ipykernel)",
   "language": "python",
   "name": "python3"
  },
  "language_info": {
   "codemirror_mode": {
    "name": "ipython",
    "version": 3
   },
   "file_extension": ".py",
   "mimetype": "text/x-python",
   "name": "python",
   "nbconvert_exporter": "python",
   "pygments_lexer": "ipython3",
   "version": "3.11.4"
  }
 },
 "nbformat": 4,
 "nbformat_minor": 5
}
